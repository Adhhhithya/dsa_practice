{
 "cells": [
  {
   "cell_type": "code",
   "execution_count": null,
   "id": "e6e45ba5",
   "metadata": {},
   "outputs": [
    {
     "name": "stdout",
     "output_type": "stream",
     "text": [
      "GCD is : 1\n",
      "GCD is : 1\n"
     ]
    }
   ],
   "source": [
    "#finding gcd or hcf of two numbers\n",
    "def gcd1(m,n):\n",
    "    cf = []\n",
    "    for i in range(1,min(m,n)+1):\n",
    "        if m%i==0 and n%i==0:\n",
    "            cf.append(i)\n",
    "    return cf[-1]\n",
    "\n",
    "def gcd2(m,n):\n",
    "    for i in range(1,min(m,n)+1):\n",
    "        if m%i==0 and n%i==0:\n",
    "            mrcf =i\n",
    "    return mrcf\n",
    "m = int(input(\"Enter 1st no. :\"))\n",
    "n = int(input(\"Enter 2nd no. :\"))\n",
    "print(\"GCD is :\",gcd1(m,n))\n",
    "print(\"GCD is :\",gcd2(m,n))"
   ]
  },
  {
   "cell_type": "code",
   "execution_count": 5,
   "id": "58d1aeb8",
   "metadata": {},
   "outputs": [
    {
     "name": "stdout",
     "output_type": "stream",
     "text": [
      "13  is a prime no.\n"
     ]
    }
   ],
   "source": [
    "#checking primality\n",
    "def factors(n):\n",
    "    f =[]\n",
    "    for i in range(1,n+1):\n",
    "        if (n%i==0):\n",
    "            f.append(i)\n",
    "    return f\n",
    "\n",
    "# check prime no.\n",
    "def isprime(n):\n",
    "    return factors(n)==[1,n]\n",
    "n=int(input(\"Enter a no. :\"))\n",
    "if isprime(n):\n",
    "    print(n,\" is a prime no.\")\n",
    "else:\n",
    "    print(n,\"is not a prime no.\")"
   ]
  },
  {
   "cell_type": "code",
   "execution_count": 7,
   "id": "9a20fb09",
   "metadata": {},
   "outputs": [
    {
     "name": "stdout",
     "output_type": "stream",
     "text": [
      "No. of primes upto 29 is 10\n",
      "First  29  primes are : [2, 3, 5, 7, 11, 13, 17, 19, 23, 29, 31, 37, 41, 43, 47, 53, 59, 61, 67, 71, 73, 79, 83, 89, 97, 101, 103, 107, 109]\n"
     ]
    }
   ],
   "source": [
    "#list all primes upto m\n",
    "def count_primes(m):\n",
    "    p=[]\n",
    "    for i in range(1,m+1):\n",
    "        if isprime(i):\n",
    "            p.append(i)\n",
    "    return len(p)\n",
    "\n",
    "# list the first m prime no.s\n",
    "def first_primes(m):\n",
    "    (count,i,p)=(0,1,[])\n",
    "    while (count <m):\n",
    "        if isprime(i):\n",
    "            (count,p)=(count+1,p+[i])\n",
    "        i+=1\n",
    "    return p\n",
    "\n",
    "m = int(input(\"Enter a no. :\"))\n",
    "print(\"No. of primes upto\",m,\"is\",count_primes(m))\n",
    "print(\"First \",m,\" primes are :\",first_primes(m))"
   ]
  },
  {
   "cell_type": "code",
   "execution_count": 12,
   "id": "4b98c6e1",
   "metadata": {},
   "outputs": [
    {
     "name": "stdout",
     "output_type": "stream",
     "text": [
      "29  is a prime no.(for loop)\n",
      "29  is a prime no.(while loop)\n"
     ]
    }
   ],
   "source": [
    "def prime_using_for_loop(n):\n",
    "    result = True\n",
    "    for i in range(2,n):\n",
    "        if(n%i)==0:\n",
    "            result = False\n",
    "            break\n",
    "    return result\n",
    "\n",
    "def prime_using_while_loop(m):\n",
    "    (result,i)=(True,2)\n",
    "    while(result and (i<n)):\n",
    "        if(n%i)==0:\n",
    "            result = False\n",
    "        i+=1\n",
    "    return result\n",
    "n = int(input(\"Enter a no. :\"))\n",
    "if prime_using_for_loop(n):\n",
    "    print(n,\" is a prime no.(for loop)\")\n",
    "else:\n",
    "    print(n,\"is not a prime no.(for loop)\")\n",
    "    \n",
    "if prime_using_while_loop(n):\n",
    "    print(n,\" is a prime no.(while loop)\")\n",
    "else:\n",
    "    print(n,\"is not a prime no.(while loop)\")"
   ]
  },
  {
   "cell_type": "markdown",
   "id": "f6e521f5",
   "metadata": {},
   "source": [
    "### Properties of Prime no.s\n",
    "- Twin Primes : 2^k +1 and 2^k -1\n",
    "- There are infintely many twin primes\n"
   ]
  },
  {
   "cell_type": "code",
   "execution_count": 14,
   "id": "23eaca56",
   "metadata": {},
   "outputs": [
    {
     "name": "stdout",
     "output_type": "stream",
     "text": [
      "41  is a prime no.(optimized)\n"
     ]
    }
   ],
   "source": [
    "#optimized prime check : mid sqrt(n)\n",
    "import math\n",
    "def optimized_prime(n):\n",
    "    (result,i)=(True,2)\n",
    "    while(result and (i< math.sqrt(n))):\n",
    "        if(n%i)==0:\n",
    "            result = False\n",
    "        i+=1\n",
    "    return result\n",
    "n = int(input(\"Enter a no. :\"))\n",
    "if optimized_prime(n):\n",
    "    print(n,\" is a prime no.(optimized)\")\n",
    "else:\n",
    "    print(n,\"is not a prime no.(optimized)\")\n"
   ]
  },
  {
   "cell_type": "code",
   "execution_count": 15,
   "id": "530d6b03",
   "metadata": {},
   "outputs": [
    {
     "name": "stdout",
     "output_type": "stream",
     "text": [
      "Prime differences are : {1: 3, 2: 7, 4: 4, 6: 1}\n"
     ]
    }
   ],
   "source": [
    "def prime_diff(n):\n",
    "    last_prime = 2\n",
    "    pd={}\n",
    "    for i in range(3,n+1):\n",
    "        if optimized_prime(i):\n",
    "            d = i - last_prime\n",
    "            last_prime = i\n",
    "            if d in pd.keys():\n",
    "                pd[d]=pd[d]+1\n",
    "            else:\n",
    "                pd[d]=1\n",
    "    return pd\n",
    "n = int(input(\"Enter a no. :\"))\n",
    "print(\"Prime differences are :\",prime_diff(n))"
   ]
  },
  {
   "cell_type": "code",
   "execution_count": null,
   "id": "0f04534b",
   "metadata": {},
   "outputs": [],
   "source": []
  }
 ],
 "metadata": {
  "kernelspec": {
   "display_name": "Python 3",
   "language": "python",
   "name": "python3"
  },
  "language_info": {
   "codemirror_mode": {
    "name": "ipython",
    "version": 3
   },
   "file_extension": ".py",
   "mimetype": "text/x-python",
   "name": "python",
   "nbconvert_exporter": "python",
   "pygments_lexer": "ipython3",
   "version": "3.11.0"
  }
 },
 "nbformat": 4,
 "nbformat_minor": 5
}
