{
 "cells": [
  {
   "cell_type": "code",
   "execution_count": null,
   "id": "e6e45ba5",
   "metadata": {},
   "outputs": [
    {
     "name": "stdout",
     "output_type": "stream",
     "text": [
      "GCD is : 1\n",
      "GCD is : 1\n"
     ]
    }
   ],
   "source": [
    "#finding gcd or hcf of two numbers\n",
    "def gcd1(m,n):\n",
    "    cf = []\n",
    "    for i in range(1,min(m,n)+1):\n",
    "        if m%i==0 and n%i==0:\n",
    "            cf.append(i)\n",
    "    return cf[-1]\n",
    "\n",
    "def gcd2(m,n):\n",
    "    for i in range(1,min(m,n)+1):\n",
    "        if m%i==0 and n%i==0:\n",
    "            mrcf =i\n",
    "    return mrcf\n",
    "m = int(input(\"Enter 1st no. :\"))\n",
    "n = int(input(\"Enter 2nd no. :\"))\n",
    "print(\"GCD is :\",gcd1(m,n))\n",
    "print(\"GCD is :\",gcd2(m,n))"
   ]
  },
  {
   "cell_type": "code",
   "execution_count": 5,
   "id": "58d1aeb8",
   "metadata": {},
   "outputs": [
    {
     "name": "stdout",
     "output_type": "stream",
     "text": [
      "13  is a prime no.\n"
     ]
    }
   ],
   "source": [
    "#checking primality\n",
    "def factors(n):\n",
    "    f =[]\n",
    "    for i in range(1,n+1):\n",
    "        if (n%i==0):\n",
    "            f.append(i)\n",
    "    return f\n",
    "\n",
    "# check prime no.\n",
    "def isprime(n):\n",
    "    return factors(n)==[1,n]\n",
    "n=int(input(\"Enter a no. :\"))\n",
    "if isprime(n):\n",
    "    print(n,\" is a prime no.\")\n",
    "else:\n",
    "    print(n,\"is not a prime no.\")"
   ]
  },
  {
   "cell_type": "code",
   "execution_count": 7,
   "id": "9a20fb09",
   "metadata": {},
   "outputs": [
    {
     "name": "stdout",
     "output_type": "stream",
     "text": [
      "No. of primes upto 29 is 10\n",
      "First  29  primes are : [2, 3, 5, 7, 11, 13, 17, 19, 23, 29, 31, 37, 41, 43, 47, 53, 59, 61, 67, 71, 73, 79, 83, 89, 97, 101, 103, 107, 109]\n"
     ]
    }
   ],
   "source": [
    "#list all primes upto m\n",
    "def count_primes(m):\n",
    "    p=[]\n",
    "    for i in range(1,m+1):\n",
    "        if isprime(i):\n",
    "            p.append(i)\n",
    "    return len(p)\n",
    "\n",
    "# list the first m prime no.s\n",
    "def first_primes(m):\n",
    "    (count,i,p)=(0,1,[])\n",
    "    while (count <m):\n",
    "        if isprime(i):\n",
    "            (count,p)=(count+1,p+[i])\n",
    "        i+=1\n",
    "    return p\n",
    "\n",
    "m = int(input(\"Enter a no. :\"))\n",
    "print(\"No. of primes upto\",m,\"is\",count_primes(m))\n",
    "print(\"First \",m,\" primes are :\",first_primes(m))"
   ]
  },
  {
   "cell_type": "code",
   "execution_count": 12,
   "id": "4b98c6e1",
   "metadata": {},
   "outputs": [
    {
     "name": "stdout",
     "output_type": "stream",
     "text": [
      "29  is a prime no.(for loop)\n",
      "29  is a prime no.(while loop)\n"
     ]
    }
   ],
   "source": [
    "def prime_using_for_loop(n):\n",
    "    result = True\n",
    "    for i in range(2,n):\n",
    "        if(n%i)==0:\n",
    "            result = False\n",
    "            break\n",
    "    return result\n",
    "\n",
    "def prime_using_while_loop(m):\n",
    "    (result,i)=(True,2)\n",
    "    while(result and (i<n)):\n",
    "        if(n%i)==0:\n",
    "            result = False\n",
    "        i+=1\n",
    "    return result\n",
    "n = int(input(\"Enter a no. :\"))\n",
    "if prime_using_for_loop(n):\n",
    "    print(n,\" is a prime no.(for loop)\")\n",
    "else:\n",
    "    print(n,\"is not a prime no.(for loop)\")\n",
    "    \n",
    "if prime_using_while_loop(n):\n",
    "    print(n,\" is a prime no.(while loop)\")\n",
    "else:\n",
    "    print(n,\"is not a prime no.(while loop)\")"
   ]
  },
  {
   "cell_type": "markdown",
   "id": "f6e521f5",
   "metadata": {},
   "source": [
    "### Properties of Prime no.s\n",
    "- Twin Primes : 2^k +1 and 2^k -1\n",
    "- There are infintely many twin primes\n"
   ]
  },
  {
   "cell_type": "code",
   "execution_count": 14,
   "id": "23eaca56",
   "metadata": {},
   "outputs": [
    {
     "name": "stdout",
     "output_type": "stream",
     "text": [
      "41  is a prime no.(optimized)\n"
     ]
    }
   ],
   "source": [
    "#optimized prime check : mid sqrt(n)\n",
    "import math\n",
    "def optimized_prime(n):\n",
    "    (result,i)=(True,2)\n",
    "    while(result and (i< math.sqrt(n))):\n",
    "        if(n%i)==0:\n",
    "            result = False\n",
    "        i+=1\n",
    "    return result\n",
    "n = int(input(\"Enter a no. :\"))\n",
    "if optimized_prime(n):\n",
    "    print(n,\" is a prime no.(optimized)\")\n",
    "else:\n",
    "    print(n,\"is not a prime no.(optimized)\")\n"
   ]
  },
  {
   "cell_type": "code",
   "execution_count": 15,
   "id": "530d6b03",
   "metadata": {},
   "outputs": [
    {
     "name": "stdout",
     "output_type": "stream",
     "text": [
      "Prime differences are : {1: 3, 2: 7, 4: 4, 6: 1}\n"
     ]
    }
   ],
   "source": [
    "def prime_diff(n):\n",
    "    last_prime = 2\n",
    "    pd={}\n",
    "    for i in range(3,n+1):\n",
    "        if optimized_prime(i):\n",
    "            d = i - last_prime\n",
    "            last_prime = i\n",
    "            if d in pd.keys():\n",
    "                pd[d]=pd[d]+1\n",
    "            else:\n",
    "                pd[d]=1\n",
    "    return pd\n",
    "n = int(input(\"Enter a no. :\"))\n",
    "print(\"Prime differences are :\",prime_diff(n))"
   ]
  },
  {
   "cell_type": "markdown",
   "id": "c92c109e",
   "metadata": {},
   "source": [
    "### Optimal Way for Computing GCD\n",
    "suppose d divided m and n\\\n",
    "m = ad , n = bd\\\n",
    "m - n = (a-b)d\\\n",
    "d also divides m-n"
   ]
  },
  {
   "cell_type": "code",
   "execution_count": 7,
   "id": "0f04534b",
   "metadata": {},
   "outputs": [],
   "source": [
    "# optimal recursive approach to find gcd\n",
    "def gcd_rec(m,n):\n",
    "    (a,b)=(max(m,n),min(m,n))\n",
    "    if a%b ==0:\n",
    "        return b\n",
    "    else:\n",
    "        return gcd_rec(b,a%b)"
   ]
  },
  {
   "cell_type": "code",
   "execution_count": 9,
   "id": "a16c0f3d",
   "metadata": {},
   "outputs": [
    {
     "name": "stdout",
     "output_type": "stream",
     "text": [
      "GCD is : 2\n"
     ]
    }
   ],
   "source": [
    "n = int(input(\"Enter 1st no. :\"))\n",
    "m = int(input(\"Enter 2nd no. :\"))\n",
    "print(\"GCD is :\",gcd_rec(m,n))"
   ]
  },
  {
   "cell_type": "markdown",
   "id": "17fdf524",
   "metadata": {},
   "source": [
    "### Classes and Objects\n",
    "- Abstract DataType : Stores some info , designated functions to manipulate the info\\\n",
    "eg : Stack - push() pop()\n",
    "\n",
    "- Class : Ways to implement abstract datatype\\\n",
    "template for a datatype , how a data is stored , how public functions manipulate data\n",
    "\n",
    "- Objects : Multiple instance of the template"
   ]
  },
  {
   "cell_type": "code",
   "execution_count": 10,
   "id": "6673be84",
   "metadata": {},
   "outputs": [
    {
     "name": "stdout",
     "output_type": "stream",
     "text": [
      "Initial Point : (0 , 0 )\n",
      "After translation : (3 , 4 )\n",
      "Distance : 5.0\n"
     ]
    }
   ],
   "source": [
    "# Example of 2D Points\n",
    "class Point:\n",
    "    def __init__(self,a=0,b=0):\n",
    "        self.x=0\n",
    "        self.y=0\n",
    "    def translate(self,delatx,deltay):\n",
    "        self.x+=delatx\n",
    "        self.y+=deltay\n",
    "    def distance(self):\n",
    "        import math\n",
    "        d=math.sqrt(self.x*self.x + self.y*self.y)\n",
    "        return d\n",
    "    def __str__(self): #implicitly invoked by print()\n",
    "        return (\"(\"+str(self.x)+\" , \"+str(self.y)+\" )\")\n",
    "    def __add__(self,p):\n",
    "        return Point(self.x+p.x , self.y+p.y)\n",
    "P = Point()\n",
    "print(\"Initial Point :\",P)\n",
    "P.translate(3,4)\n",
    "print(\"After translation :\",P)\n",
    "P.__str__()\n",
    "print(\"Distance :\",P.distance())"
   ]
  },
  {
   "cell_type": "code",
   "execution_count": 13,
   "id": "b24a682d",
   "metadata": {},
   "outputs": [
    {
     "name": "stdout",
     "output_type": "stream",
     "text": [
      "Initial Point : r = 5.0  theta = 0.9272952180016122\n",
      "After translation : r = 6.4031242374328485  theta = 0.8960553845713439\n"
     ]
    }
   ],
   "source": [
    "#Example of Polar Coordinates\n",
    "import math\n",
    "class Polar:\n",
    "    def __init__(self,a,b):\n",
    "        self.r = math.sqrt(a*a + b*b)\n",
    "        if a==0:\n",
    "            self.theta = math.pi/2\n",
    "        else:\n",
    "            self.theta=math.atan(b/a)\n",
    "    def distance(self):\n",
    "        return (self.r)\n",
    "    def translate(self,deltax,deltay):\n",
    "        x=self.r*math.cos(self.theta)\n",
    "        y=self.r*math.sin(self.theta)\n",
    "        x+=deltax\n",
    "        y+=deltay\n",
    "        self.r=math.sqrt(x*x + y*y)\n",
    "        if x==0:\n",
    "            self.theta=math.pi/2\n",
    "        else:\n",
    "            self.theta=math.atan(y/x)\n",
    "P = Polar(3,4)\n",
    "print(\"Initial Point : r =\",P.r,\" theta =\",P.theta)\n",
    "P.translate(1,1)\n",
    "print(\"After translation : r =\",P.r,\" theta =\",P.theta)\n",
    "        "
   ]
  },
  {
   "cell_type": "code",
   "execution_count": null,
   "id": "88eabf7b",
   "metadata": {},
   "outputs": [],
   "source": []
  },
  {
   "cell_type": "code",
   "execution_count": null,
   "id": "fe27f427",
   "metadata": {},
   "outputs": [],
   "source": []
  }
 ],
 "metadata": {
  "kernelspec": {
   "display_name": "Python 3",
   "language": "python",
   "name": "python3"
  },
  "language_info": {
   "codemirror_mode": {
    "name": "ipython",
    "version": 3
   },
   "file_extension": ".py",
   "mimetype": "text/x-python",
   "name": "python",
   "nbconvert_exporter": "python",
   "pygments_lexer": "ipython3",
   "version": "3.11.0"
  }
 },
 "nbformat": 4,
 "nbformat_minor": 5
}
